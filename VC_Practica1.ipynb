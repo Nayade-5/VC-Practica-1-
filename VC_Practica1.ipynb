{
 "cells": [
  {
   "cell_type": "markdown",
   "id": "9d28e080",
   "metadata": {},
   "source": [
    "TAREA: Crea una imagen, p.e. de 800x800 píxeles, con la textura del tablero de ajedrez"
   ]
  },
  {
   "cell_type": "code",
   "execution_count": 48,
   "id": "8980c089",
   "metadata": {},
   "outputs": [],
   "source": [
    "import cv2  \n",
    "import numpy as np\n",
    "import matplotlib.pyplot as plt"
   ]
  },
  {
   "cell_type": "code",
   "execution_count": 52,
   "id": "061bd7b5",
   "metadata": {},
   "outputs": [
    {
     "data": {
      "image/png": "[encoded data removed]",
      "text/plain": [
       "<Figure size 640x480 with 1 Axes>"
      ]
     },
     "metadata": {},
     "output_type": "display_data"
    }
   ],
   "source": [
    "\n",
    "ancho = 800\n",
    "alto = 800\n",
    "\n",
    "# Creación del tablero\n",
    "tablero = np.zeros((alto, ancho, 3), dtype = np.uint8)\n",
    "\n",
    "# Recorrido del tablero\n",
    "for i in range(0, ancho):\n",
    "    for j in range(0,alto):\n",
    "        if (i//100 + j//100) % 2 == 0: # esto sirve para saber si es par\n",
    "          tablero[i, j] = (255, 255, 255) # se pinta de blanco en posciones pares \n",
    "\n",
    "plt.imshow(tablero)\n",
    "plt.show()"
   ]
  },
  {
   "cell_type": "markdown",
   "id": "7493dc0d",
   "metadata": {},
   "source": [
    "TAREA: Crear una imagen estilo Mondrian (un ejemplo https://www3.gobiernodecanarias.org/medusa/ecoescuela/sa/2017/04/17/descubriendo-a-mondrian/ ) con las funciones de dibujo de OpenCV"
   ]
  },
  {
   "cell_type": "code",
   "execution_count": null,
   "id": "6e93cc26",
   "metadata": {},
   "outputs": [
    {
     "data": {
      "image/png": "[encoded data removed]",
      "text/plain": [
       "<Figure size 640x480 with 1 Axes>"
      ]
     },
     "metadata": {},
     "output_type": "display_data"
    }
   ],
   "source": [
    "ancho = 300\n",
    "alto = 200\n",
    "\n",
    "mondrian = np.zeros((200, 300, 3), dtype = np.uint8)\n",
    "\n",
    "mondrian[:,:,0] = 255 \n",
    "mondrian[:,:,1] = 255\n",
    "mondrian[:,:,2] = 255 \n",
    "\n",
    "\n",
    "\n",
    "# Colores \n",
    "rojo = (255, 0, 0)\n",
    "amarillo = (255, 255, 0)\n",
    "azul = (0,0,255)\n",
    "\n",
    "# Rellenos\n",
    "cv2.rectangle(mondrian, (25,0), (60,50), amarillo, -1)\n",
    "cv2.rectangle(mondrian, (60,0), (150,50), azul, -1)\n",
    "cv2.rectangle(mondrian, (150,0), (220,50), rojo, -1)\n",
    "cv2.rectangle(mondrian, (220,0), (260,50), amarillo, -1)\n",
    "cv2.rectangle(mondrian, (180,50), (220,125), azul, -1)\n",
    "cv2.rectangle(mondrian, (220,50), (260,125), rojo, -1)\n",
    "cv2.rectangle(mondrian, (60,125), (180,165), rojo, -1)\n",
    "cv2.rectangle(mondrian, (220,125), (260,165), amarillo, -1)\n",
    "cv2.rectangle(mondrian, (25,165), (60,alto), azul, -1)\n",
    "cv2.rectangle(mondrian, (60,165), (180,alto), amarillo, -1)\n",
    "# Líneas verticales\n",
    "cv2.line(mondrian, (int(ancho/2), 0),(int(ancho/2), 125), (0,0,0) ,4)\n",
    "cv2.line(mondrian, (25, 0),(25, alto), (0,0,0) ,4)\n",
    "cv2.line(mondrian, (60, 0),(60, alto), (0,0,0) ,4)\n",
    "cv2.line(mondrian, (260, 0),(260, alto), (0,0,0) ,4)\n",
    "cv2.line(mondrian, (220, 0),(220, 165), (0,0,0) ,4)\n",
    "cv2.line(mondrian, (180, 50),(180, alto), (0,0,0) ,4)\n",
    "\n",
    "# Líneas horizontales\n",
    "cv2.line(mondrian, (0, 50),(ancho, 50), (0,0,0) ,4)\n",
    "cv2.line(mondrian, (0, 125),(260, 125), (0,0,0) ,4)\n",
    "cv2.line(mondrian, (25, 165),(ancho, 165), (0,0,0) ,4)\n",
    "plt.imshow(mondrian)\n",
    "plt.show()\n"
   ]
  },
  {
   "cell_type": "markdown",
   "id": "cf0015b4",
   "metadata": {},
   "source": [
    "TAREA: Modifica de forma libre los valores de un plano de la imagen"
   ]
  },
  {
   "cell_type": "code",
   "execution_count": 54,
   "id": "695e4e34",
   "metadata": {},
   "outputs": [],
   "source": [
    "vid = cv2.VideoCapture(0)\n",
    "  \n",
    "while(True):      \n",
    "    # fotograma a fotograma\n",
    "    ret, frame = vid.read()\n",
    "\n",
    "    if ret:\n",
    "        #Separamos canales\n",
    "       #  canal azul\n",
    "        b = frame[:,:,0]\n",
    "        b_color = np.zeros_like(frame)\n",
    "        b_color[:,:,0]= b #separo los canales y luego le pongo el color real\n",
    "       # canal verde \n",
    "        g = frame[:,:,1]\n",
    "        g_color = np.zeros_like(frame)\n",
    "        g_color[:,:,1]= g\n",
    "        \n",
    "        # rojo invertido\n",
    "        r = frame[:,:,2]\n",
    "        r_mod = 255 - r\n",
    "        r_color_mod = np.zeros_like(frame)\n",
    "        r_color_mod[:,:,2]= r_mod #inivierto especificamente el color rojo\n",
    "        #Dimensiones imagen de entrada\n",
    "        h, w, c = frame.shape\n",
    "        #Concateamos en horizontal los tres planos del fotograma\n",
    "        collage = np.hstack((r_color_mod,g_color, b_color)) # pega imagenes \n",
    "    \n",
    "        # Muestra fotograma redimensionando a la mitad para que quepa en pantalla\n",
    "        cv2.imshow('RGB', cv2.resize(collage, (int(w*1.5),int(h/2)),cv2.INTER_NEAREST))\n",
    "    \n",
    "    # Detenemos pulsado ESC\n",
    "    if cv2.waitKey(20) == 27:\n",
    "        break\n",
    "  \n",
    "# Libera el objeto de captura\n",
    "vid.release()\n",
    "# Destruye ventanas\n",
    "cv2.destroyAllWindows()"
   ]
  },
  {
   "cell_type": "markdown",
   "id": "cb6f3bf5",
   "metadata": {},
   "source": [
    "TAREA:\n",
    "Pintar círculos en las posiciones del píxel más claro y oscuro de la imagen \n",
    "¿Si quisieras hacerlo sobre la zona 8x8 más clara/oscura?"
   ]
  },
  {
   "cell_type": "code",
   "execution_count": null,
   "id": "6c510ec3",
   "metadata": {},
   "outputs": [],
   "source": [
    "\n",
    "B = frame[:,:, 0]\n",
    "G = frame[:, :, 1]\n",
    "R = frame[:, :, 2]  \n",
    "# Almacena valores del evento\n",
    "\n",
    "vid = cv2.VideoCapture(0)\n",
    "\n",
    "while True:\n",
    "    ret, frame = vid.read()\n",
    "    if not ret:\n",
    "        break\n",
    "\n",
    "    # Convertir a escala de grises\n",
    "    gray = cv2.cvtColor(frame, cv2.COLOR_BGR2GRAY)\n",
    "\n",
    "    # Tamaño del bloque\n",
    "    block_size = 8\n",
    "    h, w = gray.shape\n",
    "\n",
    "    # Redimensionar a bloques 8x8 promediados\n",
    "    small = cv2.resize(gray, (w // block_size, h // block_size), interpolation=cv2.INTER_AREA)\n",
    "\n",
    "    # Encontrar min y max en la imagen reducida\n",
    "    minVal, maxVal, minLoc, maxLoc = cv2.minMaxLoc(small)\n",
    "\n",
    "    # Escalar coordenadas de vuelta a la imagen original\n",
    "    minLoc = (minLoc[0] * block_size, minLoc[1] * block_size)\n",
    "    maxLoc = (maxLoc[0] * block_size, maxLoc[1] * block_size)\n",
    "\n",
    "    # Dibujar rectángulos 8x8\n",
    "    cv2.rectangle(frame, minLoc, (minLoc[0]+block_size, minLoc[1]+block_size), (255,0,0), 2)  # más oscuro\n",
    "    cv2.rectangle(frame, maxLoc, (maxLoc[0]+block_size, maxLoc[1]+block_size), (0,0,255), 2)  # más claro\n",
    "\n",
    "    cv2.imshow('Cam', frame)\n",
    "\n",
    "    if cv2.waitKey(20) == 27:\n",
    "        break\n",
    "\n",
    "vid.release()\n",
    "cv2.destroyAllWindows()"
   ]
  },
  {
   "cell_type": "markdown",
   "id": "29a14bb9",
   "metadata": {},
   "source": [
    "TAREA: Llevar a cabo una propuesta propia de pop art"
   ]
  },
  {
   "cell_type": "code",
   "execution_count": 55,
   "id": "4ed868ff",
   "metadata": {},
   "outputs": [],
   "source": [
    "vid = cv2.VideoCapture(0)\n",
    "\n",
    "# Dimensiones de la cámara\n",
    "w = int(vid.get(cv2.CAP_PROP_FRAME_WIDTH))\n",
    "h = int(vid.get(cv2.CAP_PROP_FRAME_HEIGHT))\n",
    "\n",
    "# Forzar a mitad de resolución\n",
    "w = int(w/2)\n",
    "h = int(h/2)\n",
    "vid.set(cv2.CAP_PROP_FRAME_WIDTH, w)\n",
    "vid.set(cv2.CAP_PROP_FRAME_HEIGHT, h)\n",
    "\n",
    "# Imagen conjunta 2x original\n",
    "collage = np.zeros((h*2, w*2, 3), dtype=np.uint8)\n",
    "tl = collage[0:h, 0:w]\n",
    "tr = collage[0:h, w:w+w]\n",
    "bl = collage[h:h+h, 0:w]\n",
    "br = collage[h:h+h, w:w+w]\n",
    "\n",
    "while True:\n",
    "    ret, frameIN = vid.read()\n",
    "\n",
    "    # Reducir tamaño\n",
    "    frame = cv2.resize(frameIN, (w, h), cv2.INTER_NEAREST)\n",
    "\n",
    "    if ret:\n",
    "        # Versión 1: en grises\n",
    "        gray = cv2.cvtColor(frame, cv2.COLOR_BGR2GRAY)\n",
    "        gray = cv2.cvtColor(gray, cv2.COLOR_GRAY2BGR)\n",
    "\n",
    "        # Versión 2: invertida\n",
    "        invertida = cv2.bitwise_not(frame)\n",
    "\n",
    "        # Versión 3: bordes tipo cómic\n",
    "        edges = cv2.Canny(frame, 100, 200)\n",
    "        edges = cv2.cvtColor(edges, cv2.COLOR_GRAY2BGR)\n",
    "\n",
    "        # Versión 4: colores locos (colormap)\n",
    "        pop = cv2.applyColorMap(frame, cv2.COLORMAP_JET)\n",
    "\n",
    "        # Pegar en el collage\n",
    "        tl[:,:,:] = gray\n",
    "        tr[:,:,:] = invertida\n",
    "        bl[:,:,:] = edges\n",
    "        br[:,:,:] = pop\n",
    "\n",
    "        # Mostrar collage\n",
    "        cv2.imshow('Pop Art Collage', collage)\n",
    "\n",
    "    # Detener con ESC\n",
    "    if cv2.waitKey(20) == 27:\n",
    "        break\n",
    "\n",
    "# Liberar cámara\n",
    "vid.release()\n",
    "cv2.destroyAllWindows()        # mapa de colores llamativo\n",
    "\n"
   ]
  },
  {
   "cell_type": "code",
   "execution_count": null,
   "id": "cbfcd37c",
   "metadata": {},
   "outputs": [],
   "source": []
  }
 ],
 "metadata": {
  "kernelspec": {
   "display_name": "VC_P1",
   "language": "python",
   "name": "python3"
  },
  "language_info": {
   "codemirror_mode": {
    "name": "ipython",
    "version": 3
   },
   "file_extension": ".py",
   "mimetype": "text/x-python",
   "name": "python",
   "nbconvert_exporter": "python",
   "pygments_lexer": "ipython3",
   "version": "3.11.13"
  }
 },
 "nbformat": 4,
 "nbformat_minor": 5
}
